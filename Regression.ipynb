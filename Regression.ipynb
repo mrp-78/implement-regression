{
  "nbformat": 4,
  "nbformat_minor": 0,
  "metadata": {
    "colab": {
      "name": "Regression.ipynb",
      "provenance": [],
      "collapsed_sections": [
        "3Jp_x-mjGYO0",
        "ac-nXQFaG3-O",
        "OvvUwaD5G_bR",
        "52ywY_nYHR65",
        "mJumeOHmIDhI",
        "BYfBb8H4IKkW"
      ],
      "authorship_tag": "ABX9TyNzCAKBOwNXma2MzoGLU1oh",
      "include_colab_link": true
    },
    "kernelspec": {
      "name": "python3",
      "display_name": "Python 3"
    }
  },
  "cells": [
    {
      "cell_type": "markdown",
      "metadata": {
        "id": "view-in-github",
        "colab_type": "text"
      },
      "source": [
        "<a href=\"https://colab.research.google.com/github/mrp-78/implement-regression/blob/main/Regression.ipynb\" target=\"_parent\"><img src=\"https://colab.research.google.com/assets/colab-badge.svg\" alt=\"Open In Colab\"/></a>"
      ]
    },
    {
      "cell_type": "markdown",
      "metadata": {
        "id": "3Jp_x-mjGYO0"
      },
      "source": [
        "# Download covid19 new cases data"
      ]
    },
    {
      "cell_type": "code",
      "metadata": {
        "id": "lm59TYST6IW7",
        "colab": {
          "base_uri": "https://localhost:8080/"
        },
        "outputId": "e178f2f0-c602-49d9-bf89-47bd43402ac6"
      },
      "source": [
        "import csv\n",
        "import requests\n",
        "import pandas as pd\n",
        "import io\n",
        "import numpy as np\n",
        "\n",
        "CSV_URL = 'https://covid19.who.int/WHO-COVID-19-global-data.csv'\n",
        "\n",
        "with requests.Session() as s:\n",
        "    download = s.get(CSV_URL)\n",
        "    data = download.content.decode('utf-8')\n",
        "    df = pd.read_csv(io.StringIO(data)) # get world data from WHO site\n",
        "\n",
        "df = df[df['Country'] == 'Iran (Islamic Republic of)'] # filter data to get data of Iran\n",
        "data = np.array(df['New_cases'])\n",
        "data = np.trim_zeros(data) # remove zeros from start of array\n",
        "data"
      ],
      "execution_count": 3,
      "outputs": [
        {
          "output_type": "execute_result",
          "data": {
            "text/plain": [
              "array([    6,     3,    13,    10,    15,     4,    48,    44,     0,\n",
              "         249,     0,   205,     0,   908,  1421,   591,  1234,  1076,\n",
              "         743,   595,   881,   958,  1075,  1289,  1365,  1254,  1008,\n",
              "        1178,  1192,  1046,  1233,   966,  1028,  1411,  1762,  2206,\n",
              "        2389,  2926,  3076,  2901,  3186,  3111,  2987,  2875,  2715,\n",
              "        2560,     0,  2483,  2274,  2089,  1997,  1634,  1972,  1837,\n",
              "        1657,  1617,  1574,  1512,  1606,  1499,  1374,  1343,  1294,\n",
              "        1297,  1194,  1030,  1168,  1134,  1153,   991,  1112,  1073,\n",
              "         983,  1006,   802,   976,  1223,  1323,  1680,  1485,  1556,\n",
              "        1529,  1383,  1683,  1481,  1958,  1808,  2102,  1757,  1806,\n",
              "        2294,  2111,  2346,  2392,  2311,  1869,  2180,  2023,  1787,\n",
              "        2080,  2258,  2819,  2282,  2516,  2979,  3117,  3134,  3574,\n",
              "        2886,  2269,  2364,  2043,  2095,  2011,  2238,  2369,  2410,\n",
              "        2472,  2449,  2563,  2612,  2596,  2615,  2322,  2368,  2573,\n",
              "        2445,  2531,  2595,  2628,  2456,  2489,  2536,  2457,  2549,\n",
              "        2652,  2566,  2449,  2560,  2613,  2637,  2691,  2079,  2262,\n",
              "        2397,  2186,  2349,  2521,  2388,  2500,  2379,  2166,  2182,\n",
              "        2414,  2625,  2586,  2621,  2489,  2316,  2333,  2434,  2667,\n",
              "        2636,  2621,  2674,  2548,  2685,  2598,  2751,  2697,  2634,\n",
              "        2450,  2125,  2020,  2132,  2345,  2510,  2625,  2501,  2245,\n",
              "        2133,  2247,  2385,  2444,  2279,  2206,  2028,  2113,  2245,\n",
              "        2213,  2243,  2190,  2115,  1905,  1754,  1642,  1682,  1858,\n",
              "        1994,  2026,  1894,  1992,  2152,  2302,  2313,  2063,  2313,\n",
              "        2139,  2089,  2619,  2705,  2981,  2815,  3049,  2845,  3097,\n",
              "        3341,  3712,  3605,  3521,  3563,  3204,  3362,  3512,  3677,\n",
              "        3582,  3825,  3552,  3523,  3653,  3902,  4151,  4019,  4392,\n",
              "        4142,  3875,  3822,  4206,  4108,  4830,  4616,  4552,  4103,\n",
              "        3890,  4251,  5039,  5616,  5471,  6134,  5814,  6191,  5960,\n",
              "        6968,  6824,  8293,  8011,  7820,  7719,  8289,  8932,  8452,\n",
              "        8772,  8864,  9450,  9236, 10463, 10339, 11780, 11517, 11737,\n",
              "       11203, 12543, 13053, 13352, 13421, 13223, 13260, 12931, 13053,\n",
              "       12460, 13721, 13843, 13961, 14051, 13402, 12950, 13321, 13881,\n",
              "       13621, 13922, 13341, 12151, 11561, 10827, 11023, 10223, 10403,\n",
              "        9594,  8201,  7451,  7501,  7704,  7603,  7453,  7121,  6421,\n",
              "        6312,  6151,  6208,  6261,  6178,  6021,  5760,  5502,  5908,\n",
              "        6108,  6272,  6390,  6286,  6045,  5960,  6073,  6113,  6283,\n",
              "        6360,  6251,  5924,  5968,  6208,  6408,  6317,  6471,  6485,\n",
              "        6100,  6016,  5806,  5917,  6182,  6204,  6305,  6207,  5945,\n",
              "        6309,  6420,  6608,  6527,  6573,  6317,  6268,  6597,  6820,\n",
              "        6870,  7040,  7061,  6983,  7065,  7321,  7640,  7585,  7474,\n",
              "        7298,  7120,  7390,  7760,  8011,  8042,  8066,  8017,  7922,\n",
              "        7931,  8263,  8330,  8270,  8206,  8103,  7975,  8010,  8510,\n",
              "        8495,  8525,  8404,  8367,  8212,  8010,  8313,  8554,  8603,\n",
              "        8308,  8088,  7802,  7593,  7980,  8380,  7802,  7530,  7620,\n",
              "        7540,  7260,  7357,  7290,  7605,  7506,  7980,  8120,  8751,\n",
              "        9310, 10250, 10330, 11750, 11660, 11420, 11680, 13890, 17430,\n",
              "       20954, 22586, 22478, 19666, 21063, 23311, 24760, 25582, 25078,\n",
              "       25261, 21312, 21644, 24346, 25492, 24886, 24092, 22904, 18230,\n",
              "       19165, 21026, 20963, 21713])"
            ]
          },
          "metadata": {
            "tags": []
          },
          "execution_count": 3
        }
      ]
    },
    {
      "cell_type": "markdown",
      "metadata": {
        "id": "ac-nXQFaG3-O"
      },
      "source": [
        "# Preprocess and Clean data"
      ]
    },
    {
      "cell_type": "code",
      "metadata": {
        "id": "0LcRlo37f5xY",
        "colab": {
          "base_uri": "https://localhost:8080/"
        },
        "outputId": "8dec0924-14ab-4bdd-f7d0-483e828c7ff9"
      },
      "source": [
        "X = np.array([i for i in range(1, len(data)+1)])\n",
        "zero_indices = np.where(data == 0)[0] # find data leaking indices\n",
        "data = np.delete(data, zero_indices) #remove data with 0 values\n",
        "X = np.delete(X, zero_indices) # remove day's corresponding 0 value in data\n",
        "\n",
        "data"
      ],
      "execution_count": 4,
      "outputs": [
        {
          "output_type": "execute_result",
          "data": {
            "text/plain": [
              "array([    6,     3,    13,    10,    15,     4,    48,    44,   249,\n",
              "         205,   908,  1421,   591,  1234,  1076,   743,   595,   881,\n",
              "         958,  1075,  1289,  1365,  1254,  1008,  1178,  1192,  1046,\n",
              "        1233,   966,  1028,  1411,  1762,  2206,  2389,  2926,  3076,\n",
              "        2901,  3186,  3111,  2987,  2875,  2715,  2560,  2483,  2274,\n",
              "        2089,  1997,  1634,  1972,  1837,  1657,  1617,  1574,  1512,\n",
              "        1606,  1499,  1374,  1343,  1294,  1297,  1194,  1030,  1168,\n",
              "        1134,  1153,   991,  1112,  1073,   983,  1006,   802,   976,\n",
              "        1223,  1323,  1680,  1485,  1556,  1529,  1383,  1683,  1481,\n",
              "        1958,  1808,  2102,  1757,  1806,  2294,  2111,  2346,  2392,\n",
              "        2311,  1869,  2180,  2023,  1787,  2080,  2258,  2819,  2282,\n",
              "        2516,  2979,  3117,  3134,  3574,  2886,  2269,  2364,  2043,\n",
              "        2095,  2011,  2238,  2369,  2410,  2472,  2449,  2563,  2612,\n",
              "        2596,  2615,  2322,  2368,  2573,  2445,  2531,  2595,  2628,\n",
              "        2456,  2489,  2536,  2457,  2549,  2652,  2566,  2449,  2560,\n",
              "        2613,  2637,  2691,  2079,  2262,  2397,  2186,  2349,  2521,\n",
              "        2388,  2500,  2379,  2166,  2182,  2414,  2625,  2586,  2621,\n",
              "        2489,  2316,  2333,  2434,  2667,  2636,  2621,  2674,  2548,\n",
              "        2685,  2598,  2751,  2697,  2634,  2450,  2125,  2020,  2132,\n",
              "        2345,  2510,  2625,  2501,  2245,  2133,  2247,  2385,  2444,\n",
              "        2279,  2206,  2028,  2113,  2245,  2213,  2243,  2190,  2115,\n",
              "        1905,  1754,  1642,  1682,  1858,  1994,  2026,  1894,  1992,\n",
              "        2152,  2302,  2313,  2063,  2313,  2139,  2089,  2619,  2705,\n",
              "        2981,  2815,  3049,  2845,  3097,  3341,  3712,  3605,  3521,\n",
              "        3563,  3204,  3362,  3512,  3677,  3582,  3825,  3552,  3523,\n",
              "        3653,  3902,  4151,  4019,  4392,  4142,  3875,  3822,  4206,\n",
              "        4108,  4830,  4616,  4552,  4103,  3890,  4251,  5039,  5616,\n",
              "        5471,  6134,  5814,  6191,  5960,  6968,  6824,  8293,  8011,\n",
              "        7820,  7719,  8289,  8932,  8452,  8772,  8864,  9450,  9236,\n",
              "       10463, 10339, 11780, 11517, 11737, 11203, 12543, 13053, 13352,\n",
              "       13421, 13223, 13260, 12931, 13053, 12460, 13721, 13843, 13961,\n",
              "       14051, 13402, 12950, 13321, 13881, 13621, 13922, 13341, 12151,\n",
              "       11561, 10827, 11023, 10223, 10403,  9594,  8201,  7451,  7501,\n",
              "        7704,  7603,  7453,  7121,  6421,  6312,  6151,  6208,  6261,\n",
              "        6178,  6021,  5760,  5502,  5908,  6108,  6272,  6390,  6286,\n",
              "        6045,  5960,  6073,  6113,  6283,  6360,  6251,  5924,  5968,\n",
              "        6208,  6408,  6317,  6471,  6485,  6100,  6016,  5806,  5917,\n",
              "        6182,  6204,  6305,  6207,  5945,  6309,  6420,  6608,  6527,\n",
              "        6573,  6317,  6268,  6597,  6820,  6870,  7040,  7061,  6983,\n",
              "        7065,  7321,  7640,  7585,  7474,  7298,  7120,  7390,  7760,\n",
              "        8011,  8042,  8066,  8017,  7922,  7931,  8263,  8330,  8270,\n",
              "        8206,  8103,  7975,  8010,  8510,  8495,  8525,  8404,  8367,\n",
              "        8212,  8010,  8313,  8554,  8603,  8308,  8088,  7802,  7593,\n",
              "        7980,  8380,  7802,  7530,  7620,  7540,  7260,  7357,  7290,\n",
              "        7605,  7506,  7980,  8120,  8751,  9310, 10250, 10330, 11750,\n",
              "       11660, 11420, 11680, 13890, 17430, 20954, 22586, 22478, 19666,\n",
              "       21063, 23311, 24760, 25582, 25078, 25261, 21312, 21644, 24346,\n",
              "       25492, 24886, 24092, 22904, 18230, 19165, 21026, 20963, 21713])"
            ]
          },
          "metadata": {
            "tags": []
          },
          "execution_count": 4
        }
      ]
    },
    {
      "cell_type": "markdown",
      "metadata": {
        "id": "OvvUwaD5G_bR"
      },
      "source": [
        "# Plot Data"
      ]
    },
    {
      "cell_type": "code",
      "metadata": {
        "id": "WmyVtBLopbCf",
        "colab": {
          "base_uri": "https://localhost:8080/",
          "height": 282
        },
        "outputId": "8b9a511f-ad8e-4a99-8fab-375673fce209"
      },
      "source": [
        "import matplotlib.pyplot as plt\n",
        "plt.plot(X, data)"
      ],
      "execution_count": 5,
      "outputs": [
        {
          "output_type": "execute_result",
          "data": {
            "text/plain": [
              "[<matplotlib.lines.Line2D at 0x7fcbd5dab3d0>]"
            ]
          },
          "metadata": {
            "tags": []
          },
          "execution_count": 5
        },
        {
          "output_type": "display_data",
          "data": {
            "image/png": "[encoded data removed]",
            "text/plain": [
              "<Figure size 432x288 with 1 Axes>"
            ]
          },
          "metadata": {
            "tags": [],
            "needs_background": "light"
          }
        }
      ]
    },
    {
      "cell_type": "code",
      "metadata": {
        "id": "unUVCiI6rB5V",
        "colab": {
          "base_uri": "https://localhost:8080/",
          "height": 282
        },
        "outputId": "945ab2bf-d825-4913-dda0-2096eaf6f0ac"
      },
      "source": [
        "logarithmic_data = np.log(data)\n",
        "plt.plot(X, logarithmic_data)"
      ],
      "execution_count": 6,
      "outputs": [
        {
          "output_type": "execute_result",
          "data": {
            "text/plain": [
              "[<matplotlib.lines.Line2D at 0x7fcbd58979d0>]"
            ]
          },
          "metadata": {
            "tags": []
          },
          "execution_count": 6
        },
        {
          "output_type": "display_data",
          "data": {
            "image/png": "[encoded data removed]",
            "text/plain": [
              "<Figure size 432x288 with 1 Axes>"
            ]
          },
          "metadata": {
            "tags": [],
            "needs_background": "light"
          }
        }
      ]
    },
    {
      "cell_type": "markdown",
      "metadata": {
        "id": "52ywY_nYHR65"
      },
      "source": [
        "# Implement Linear Regression model by using Gradien Descent"
      ]
    },
    {
      "cell_type": "code",
      "metadata": {
        "id": "FpRWJkZarp7T"
      },
      "source": [
        "def update(x, t, w, b, alpha):\n",
        "  N = len(x)\n",
        "  y = w * x + b\n",
        "  dedw = np.dot((y - t), x)\n",
        "  dedb = np.sum(y - t)\n",
        "  w -= (1. * alpha / N) * dedw\n",
        "  b -= (1. * alpha / N) * dedb\n",
        "  return w, b\n",
        "\n",
        "def cost(x, t, w, b):\n",
        "  N = len(x)\n",
        "  y = w * x + b\n",
        "  err = np.sum((y - t)**2)\n",
        "  return err/(2. * N)\n",
        "\n",
        "def train_model(x, t, w, b, alpha, epochs):\n",
        "  for e in range(epochs):\n",
        "    w, b = update(x, t, w, b, alpha)\n",
        "    if e % 500 == 0:\n",
        "      # print(w, b)\n",
        "      print('cost', cost(x, t, w, b))\n",
        "  return w, b"
      ],
      "execution_count": 7,
      "outputs": []
    },
    {
      "cell_type": "markdown",
      "metadata": {
        "id": "mJumeOHmIDhI"
      },
      "source": [
        "### Train data"
      ]
    },
    {
      "cell_type": "code",
      "metadata": {
        "colab": {
          "base_uri": "https://localhost:8080/"
        },
        "id": "wCcu9tcqH-1p",
        "outputId": "6eb00eeb-d864-4f33-9089-e44f258c833d"
      },
      "source": [
        "w = 0\n",
        "b = 0\n",
        "alpha = 0.001\n",
        "epochs = 5000\n",
        "w, b = train_model(X[:20], logarithmic_data[:20], w, b, alpha, epochs)\n",
        "print(w, b)"
      ],
      "execution_count": 8,
      "outputs": [
        {
          "output_type": "stream",
          "text": [
            "cost 9.528370157294562\n",
            "cost 0.5658770023978728\n",
            "cost 0.5183229194760285\n",
            "cost 0.48136875398713047\n",
            "cost 0.45265175929236817\n",
            "cost 0.43033585056086804\n",
            "cost 0.4129942106084301\n",
            "cost 0.3995180631721619\n",
            "cost 0.3890457808377278\n",
            "cost 0.38090779497709903\n",
            "0.30800571480899014 1.0786848706456644\n"
          ],
          "name": "stdout"
        }
      ]
    },
    {
      "cell_type": "markdown",
      "metadata": {
        "id": "BYfBb8H4IKkW"
      },
      "source": [
        "### Plot predictions"
      ]
    },
    {
      "cell_type": "code",
      "metadata": {
        "id": "dZhDA5nhwXAB",
        "colab": {
          "base_uri": "https://localhost:8080/",
          "height": 282
        },
        "outputId": "5a6503d0-aa62-43a8-cf20-71f2f4ccfbe9"
      },
      "source": [
        "logarithmic_data = np.log(data)\n",
        "plt.plot(X[:20], logarithmic_data[:20])\n",
        "y = w * X[:20] + b\n",
        "plt.plot(X[:20], y)"
      ],
      "execution_count": 9,
      "outputs": [
        {
          "output_type": "execute_result",
          "data": {
            "text/plain": [
              "[<matplotlib.lines.Line2D at 0x7fcbd581f390>]"
            ]
          },
          "metadata": {
            "tags": []
          },
          "execution_count": 9
        },
        {
          "output_type": "display_data",
          "data": {
            "image/png": "[encoded data removed]",
            "text/plain": [
              "<Figure size 432x288 with 1 Axes>"
            ]
          },
          "metadata": {
            "tags": [],
            "needs_background": "light"
          }
        }
      ]
    },
    {
      "cell_type": "markdown",
      "metadata": {
        "id": "zrtfTx8jImkq"
      },
      "source": [
        "# Implement Polynomial Regression"
      ]
    },
    {
      "cell_type": "code",
      "metadata": {
        "id": "Hm8RtkEJF_i3"
      },
      "source": [
        "def update_polynomial(x, t, w, alpha):\n",
        "  N = x.shape[1]\n",
        "  y = np.dot(w.T, x)\n",
        "  dedw = np.dot(x, (y - t).T) / N\n",
        "  w = w - alpha * dedw \n",
        "  return w\n",
        "\n",
        "def cost_polynomial(x, t, w):\n",
        "  N = x.shape[1]\n",
        "  y = np.dot(w.T, x)\n",
        "  return np.sum((y - t)**2) / (2. * N)\n",
        "\n",
        "def train_polynomial(x, t, w, alpha, epochs):\n",
        "  for e in range(epochs):\n",
        "    w = update_polynomial(x, t, w, alpha)\n",
        "  return w"
      ],
      "execution_count": 11,
      "outputs": []
    },
    {
      "cell_type": "markdown",
      "metadata": {
        "id": "L3JyeStUJc9o"
      },
      "source": [
        "## select best polynomial model\n",
        "this funtion starts from linear regression and increments degree of model until there is no improvement on validation cost and selects the best degree for polynomial model"
      ]
    },
    {
      "cell_type": "code",
      "metadata": {
        "id": "s5a4_cxhJEgy"
      },
      "source": [
        "def select_beset_model(x, t, alpha=0.0001, epochs=50000, early_stopping=3, logging=True):\n",
        "  degree = 1\n",
        "  min_cost = float('inf')\n",
        "  stopping_round = 0\n",
        "  stds = [np.std(x), np.std(t)]\n",
        "  means = [np.mean(x), np.mean(t)]\n",
        "  x = (x - means[0]) / stds[0] # normalization\n",
        "  t = (t - means[1]) / stds[1] # normalization\n",
        "  train, valid, test, train_y, valid_y, test_y = train_valid_test_split(x, t)\n",
        "  while True:\n",
        "    w = np.zeros((degree+1, 1))\n",
        "    train_data = np.ones((1, len(train[0])))\n",
        "    valid_data = np.ones((1, len(valid[0])))\n",
        "    for i in range(1, degree+1): \n",
        "      train_data = np.append(train_data, np.power(train, i), axis=0)\n",
        "      valid_data = np.append(valid_data, np.power(valid, i), axis=0)\n",
        "    w = train_polynomial(train_data, train_y, w, alpha, epochs)\n",
        "    cost = cost_polynomial(valid_data, valid_y, w)\n",
        "    if logging:\n",
        "      print('degree=', degree)\n",
        "      print('cost=', cost)\n",
        "    if cost < min_cost:\n",
        "      min_cost = cost\n",
        "      best_w = w\n",
        "      best_degree = degree\n",
        "      degree += 1\n",
        "      stopping_round = 0\n",
        "    elif stopping_round < early_stopping:\n",
        "      stopping_round += 1\n",
        "      degree += 1\n",
        "    else:\n",
        "      break\n",
        "  test_data = np.ones((1, len(test[0])))\n",
        "  for i in range(1, best_degree+1):\n",
        "      test_data = np.append(test_data, np.power(test, i), axis=0)\n",
        "  final_cost = cost_polynomial(test_data, test_y, best_w)\n",
        "  return best_degree, best_w, final_cost, min_cost, stds, means"
      ],
      "execution_count": 12,
      "outputs": []
    },
    {
      "cell_type": "markdown",
      "metadata": {
        "id": "yWG5xsAcKUjl"
      },
      "source": [
        "### Trin Data"
      ]
    },
    {
      "cell_type": "code",
      "metadata": {
        "id": "qIm4L9RIKTH0"
      },
      "source": [
        "X_poly = X.reshape(1, len(X))\n",
        "data_poly = data.reshape(1, len(data))\n",
        "log_poly = logarithmic_data.reshape(1, len(logarithmic_data))"
      ],
      "execution_count": 13,
      "outputs": []
    },
    {
      "cell_type": "code",
      "metadata": {
        "id": "HIyJprOUJN4E"
      },
      "source": [
        "def train_valid_test_split(x, y, train_size=0.7, valid_size=0.2):\n",
        "  n = x.shape[1]\n",
        "  np.random.seed(0)\n",
        "  indices = np.random.permutation(n)\n",
        "  train_idx, valid_idx, test_idx = indices[:int(n*train_size)], indices[int(n*train_size): int(n*(train_size + valid_size))], indices[int(n*(train_size + valid_size)):]\n",
        "  train, valid, test = x[:,train_idx], x[:,valid_idx], x[:,test_idx]\n",
        "  train_y, valid_y, test_y = y[:,train_idx], y[:,valid_idx], y[:,test_idx]\n",
        "  return train, valid, test, train_y, valid_y, test_y"
      ],
      "execution_count": 14,
      "outputs": []
    },
    {
      "cell_type": "code",
      "metadata": {
        "colab": {
          "base_uri": "https://localhost:8080/"
        },
        "id": "Ar0mJRTpI9Cr",
        "outputId": "e5d5fe3a-d184-427c-cbda-2ae33e273ed7"
      },
      "source": [
        "degree, w, test_cost, valid_cost, stds, means = select_beset_model(X_poly, data_poly)\n",
        "print('-'*30)\n",
        "print('Selected Model:')\n",
        "print('\\tdegree= ', degree)\n",
        "print('\\ttest cost= ', test_cost)\n",
        "print('\\tvalid cost= ', valid_cost)\n",
        "print('\\tw=', w)"
      ],
      "execution_count": 15,
      "outputs": [
        {
          "output_type": "stream",
          "text": [
            "degree= 1\n",
            "cost= 0.17637853406559675\n",
            "degree= 2\n",
            "cost= 0.16771036598308994\n",
            "degree= 3\n",
            "cost= 0.17420469807100267\n",
            "degree= 4\n",
            "cost= 0.15661200225651659\n",
            "degree= 5\n",
            "cost= 0.1431269405975335\n",
            "degree= 6\n",
            "cost= 0.13153232843972643\n",
            "degree= 7\n",
            "cost= 0.11815654330450472\n",
            "degree= 8\n",
            "cost= 0.11820760587067836\n",
            "degree= 9\n",
            "cost= 0.11298146230858586\n",
            "degree= 10\n",
            "cost= 0.11198248076297794\n",
            "degree= 11\n",
            "cost= 0.11262536647015522\n"
          ],
          "name": "stdout"
        },
        {
          "output_type": "stream",
          "text": [
            "/usr/local/lib/python3.7/dist-packages/ipykernel_launcher.py:5: RuntimeWarning: invalid value encountered in subtract\n",
            "  \"\"\"\n"
          ],
          "name": "stderr"
        },
        {
          "output_type": "stream",
          "text": [
            "degree= 12\n",
            "cost= nan\n",
            "degree= 13\n",
            "cost= nan\n",
            "degree= 14\n",
            "cost= nan\n",
            "------------------------------\n",
            "Selected Model:\n",
            "\tdegree=  10\n",
            "\ttest cost=  0.166627113210911\n",
            "\tvalid cost=  0.11198248076297794\n",
            "\tw= [[-0.11767521]\n",
            " [ 0.41923087]\n",
            " [-0.07277649]\n",
            " [ 0.08828143]\n",
            " [-0.08982547]\n",
            " [-0.01507494]\n",
            " [-0.02664291]\n",
            " [-0.0357057 ]\n",
            " [ 0.09123192]\n",
            " [ 0.02378257]\n",
            " [-0.01676656]]\n"
          ],
          "name": "stdout"
        }
      ]
    },
    {
      "cell_type": "markdown",
      "metadata": {
        "id": "7Hnnp-gCKv_U"
      },
      "source": [
        "### Plot Predictions"
      ]
    },
    {
      "cell_type": "code",
      "metadata": {
        "id": "zZh68rhmD0YB"
      },
      "source": [
        "def predict(x, w, degree, stds, means):\n",
        "  x = (x - means[0]) / stds[0]\n",
        "  data = np.ones((1, len(x[0])))\n",
        "  for i in range(1, degree+1):\n",
        "    data = np.append(data, np.power(x, i), axis=0)\n",
        "  y = np.dot(w.T, data) * stds[1] + means[1]\n",
        "  return y"
      ],
      "execution_count": 16,
      "outputs": []
    },
    {
      "cell_type": "code",
      "metadata": {
        "id": "nqq_iPhjWgns",
        "colab": {
          "base_uri": "https://localhost:8080/",
          "height": 282
        },
        "outputId": "5059dfd8-4ed2-4235-93e6-5bf26bbb295c"
      },
      "source": [
        "# print(degree, w, b, cost)\n",
        "plt.plot(X_poly[0], data_poly[0], '.')\n",
        "y = predict(X_poly, w, degree, stds, means)\n",
        "plt.plot(X_poly[0], y[0])"
      ],
      "execution_count": 17,
      "outputs": [
        {
          "output_type": "execute_result",
          "data": {
            "text/plain": [
              "[<matplotlib.lines.Line2D at 0x7fcbd56e0610>]"
            ]
          },
          "metadata": {
            "tags": []
          },
          "execution_count": 17
        },
        {
          "output_type": "display_data",
          "data": {
            "image/png": "[encoded data removed]",
            "text/plain": [
              "<Figure size 432x288 with 1 Axes>"
            ]
          },
          "metadata": {
            "tags": [],
            "needs_background": "light"
          }
        }
      ]
    },
    {
      "cell_type": "markdown",
      "metadata": {
        "id": "JPyNUZeSLJ4P"
      },
      "source": [
        "## Improve Model\n",
        "this function finds best **alpha** and **number of epochs** for our model"
      ]
    },
    {
      "cell_type": "code",
      "metadata": {
        "id": "RZa2LwCArv9V"
      },
      "source": [
        "import random\n",
        "\n",
        "def find_best_alpha_and_epochs():\n",
        "  min_cost = float('inf')\n",
        "  digit = [k for k in range(1, 10)]\n",
        "  pow = [k for k in range(3, 5)]\n",
        "  for i in range(50):\n",
        "    r = -5 * random.random()\n",
        "    alpha = round(10 ** r, 5) # random number between 1 and 1e-5\n",
        "    epochs = random.choice(digit) * 10 ** random.choice(pow) # random number between 1e3 and 9e4\n",
        "    print('alpha= ', alpha)\n",
        "    print('epochs=', epochs)\n",
        "    degree, w, test_cost, valid_cost, stds, means = select_beset_model(X_poly, data_poly, alpha=alpha, epochs=epochs, logging=False)\n",
        "    print('cost=', valid_cost)\n",
        "    print()\n",
        "    if valid_cost < min_cost:\n",
        "      min_cost = valid_cost\n",
        "      best_alpha = alpha\n",
        "      best_epochs = epochs\n",
        "  return best_alpha, best_epochs, min_cost"
      ],
      "execution_count": 18,
      "outputs": []
    },
    {
      "cell_type": "code",
      "metadata": {
        "colab": {
          "base_uri": "https://localhost:8080/"
        },
        "id": "bdS9UfJfLrWM",
        "outputId": "630aeed0-7fa8-44b9-e324-13cc9a97516c"
      },
      "source": [
        "alpha, epochs, cost = find_best_alpha_and_epochs()\n",
        "print('-'*20)\n",
        "print('Selected Params')\n",
        "print('\\talpha= ', alpha)\n",
        "print('\\tepochs=', epochs) \n",
        "print('\\tcost=', cost)"
      ],
      "execution_count": 20,
      "outputs": [
        {
          "output_type": "stream",
          "text": [
            "alpha=  2e-05\n",
            "epochs= 6000\n"
          ],
          "name": "stdout"
        },
        {
          "output_type": "stream",
          "text": [
            "/usr/local/lib/python3.7/dist-packages/ipykernel_launcher.py:5: RuntimeWarning: invalid value encountered in subtract\n",
            "  \"\"\"\n"
          ],
          "name": "stderr"
        },
        {
          "output_type": "stream",
          "text": [
            "cost= 0.16733225927529854\n",
            "\n",
            "alpha=  0.0249\n",
            "epochs= 80000\n",
            "cost= 0.06825864132193084\n",
            "\n",
            "alpha=  0.00012\n",
            "epochs= 60000\n",
            "cost= 0.10529506500862197\n",
            "\n",
            "alpha=  0.03019\n",
            "epochs= 50000\n",
            "cost= 0.07683070260115152\n",
            "\n",
            "alpha=  0.00201\n",
            "epochs= 4000\n",
            "cost= 0.10730997469871062\n",
            "\n",
            "alpha=  0.31941\n",
            "epochs= 1000\n",
            "cost= 0.17115785513099233\n",
            "\n",
            "alpha=  2e-05\n",
            "epochs= 50000\n",
            "cost= 0.13657263485495877\n",
            "\n",
            "alpha=  0.04852\n",
            "epochs= 20000\n",
            "cost= 0.07683070268698201\n",
            "\n",
            "alpha=  1e-05\n",
            "epochs= 5000\n",
            "cost= 0.174922983588204\n",
            "\n",
            "alpha=  0.18099\n",
            "epochs= 8000\n",
            "cost= 0.17115785513099227\n",
            "\n",
            "alpha=  0.67915\n",
            "epochs= 80000\n",
            "cost= 0.17115785513099235\n",
            "\n",
            "alpha=  0.79351\n",
            "epochs= 8000\n",
            "cost= 0.17115785513099155\n",
            "\n",
            "alpha=  0.05977\n",
            "epochs= 90000\n",
            "cost= 0.07683070260115006\n",
            "\n",
            "alpha=  0.08412\n",
            "epochs= 10000\n",
            "cost= 0.14596471710572223\n",
            "\n",
            "alpha=  0.73519\n",
            "epochs= 40000\n",
            "cost= 0.17115785513099233\n",
            "\n",
            "alpha=  1e-05\n",
            "epochs= 9000\n",
            "cost= 0.16902924317396292\n",
            "\n",
            "alpha=  0.03044\n",
            "epochs= 6000\n",
            "cost= 0.07734299925367866\n",
            "\n",
            "alpha=  0.22122\n",
            "epochs= 2000\n",
            "cost= 0.1711578551309923\n",
            "\n",
            "alpha=  0.00021\n",
            "epochs= 4000\n",
            "cost= 0.1424250909892894\n",
            "\n",
            "alpha=  0.0187\n",
            "epochs= 9000\n",
            "cost= 0.06924225171143801\n",
            "\n",
            "alpha=  0.00324\n",
            "epochs= 40000\n",
            "cost= 0.07049206999107016\n",
            "\n",
            "alpha=  0.00044\n",
            "epochs= 5000\n",
            "cost= 0.12768064801517978\n",
            "\n",
            "alpha=  0.1468\n",
            "epochs= 90000\n",
            "cost= 0.1459647171057222\n",
            "\n",
            "alpha=  6e-05\n",
            "epochs= 9000\n",
            "cost= 0.14774685404719465\n",
            "\n",
            "alpha=  0.0451\n",
            "epochs= 40000\n",
            "cost= 0.07683070260115063\n",
            "\n",
            "alpha=  1e-05\n",
            "epochs= 60000\n",
            "cost= 0.14634729538334998\n",
            "\n",
            "alpha=  0.00014\n",
            "epochs= 30000\n",
            "cost= 0.11512321207806235\n",
            "\n",
            "alpha=  0.00043\n",
            "epochs= 60000\n",
            "cost= 0.08763185420168534\n",
            "\n",
            "alpha=  0.16969\n",
            "epochs= 40000\n",
            "cost= 0.17115785513099227\n",
            "\n",
            "alpha=  2e-05\n",
            "epochs= 30000\n",
            "cost= 0.14634723090680665\n",
            "\n",
            "alpha=  0.00383\n",
            "epochs= 5000\n",
            "cost= 0.09103214242027202\n",
            "\n",
            "alpha=  0.48851\n",
            "epochs= 40000\n",
            "cost= 0.17115785513099233\n",
            "\n",
            "alpha=  0.00997\n",
            "epochs= 10000\n",
            "cost= 0.07266688029866407\n",
            "\n",
            "alpha=  6e-05\n",
            "epochs= 5000\n",
            "cost= 0.15553279216692398\n",
            "\n",
            "alpha=  5e-05\n",
            "epochs= 1000\n",
            "cost= 0.17491897484398736\n",
            "\n",
            "alpha=  0.00069\n",
            "epochs= 70000\n",
            "cost= 0.08076190239703974\n",
            "\n",
            "alpha=  0.06785\n",
            "epochs= 4000\n",
            "cost= 0.07691401953530735\n",
            "\n",
            "alpha=  6e-05\n",
            "epochs= 9000\n",
            "cost= 0.14774685404719465\n",
            "\n",
            "alpha=  0.00072\n",
            "epochs= 7000\n",
            "cost= 0.11284783168327\n",
            "\n",
            "alpha=  0.00094\n",
            "epochs= 90000\n",
            "cost= 0.07307397319157555\n",
            "\n",
            "alpha=  0.00566\n",
            "epochs= 60000\n",
            "cost= 0.06828456373496666\n",
            "\n",
            "alpha=  0.03116\n",
            "epochs= 8000\n",
            "cost= 0.0769607782957348\n",
            "\n",
            "alpha=  0.05126\n",
            "epochs= 50000\n",
            "cost= 0.07683070260115027\n",
            "\n",
            "alpha=  0.99957\n",
            "epochs= 4000\n",
            "cost= 0.1770688578526297\n",
            "\n",
            "alpha=  0.00013\n",
            "epochs= 2000\n",
            "cost= 0.15745614061974927\n",
            "\n",
            "alpha=  0.00214\n",
            "epochs= 20000\n",
            "cost= 0.08386717876907315\n",
            "\n",
            "alpha=  0.00951\n",
            "epochs= 4000\n",
            "cost= 0.08463854948995206\n",
            "\n",
            "alpha=  0.00016\n",
            "epochs= 90000\n",
            "cost= 0.08979809741898803\n",
            "\n",
            "alpha=  0.36619\n",
            "epochs= 5000\n",
            "cost= 0.17115785513099233\n",
            "\n",
            "alpha=  0.01715\n",
            "epochs= 60000\n",
            "cost= 0.06825851278695828\n",
            "\n",
            "--------------------\n",
            "Selected Params\n",
            "\talpha=  0.01715\n",
            "\tepochs= 60000\n",
            "\tcost= 0.06825851278695828\n"
          ],
          "name": "stdout"
        }
      ]
    },
    {
      "cell_type": "markdown",
      "metadata": {
        "id": "YCeNcUDvMETp"
      },
      "source": [
        "### Train and Plot Data\n",
        "rerun select_best_model function to select best degree for polynomial regression base on new alpha and number of epoch and see the predictions result"
      ]
    },
    {
      "cell_type": "code",
      "metadata": {
        "id": "9hZblv3laLw7",
        "colab": {
          "base_uri": "https://localhost:8080/",
          "height": 486
        },
        "outputId": "92efe5e0-5e9c-4ce2-9232-65e0e3fd2053"
      },
      "source": [
        "degree, w, test_cost, valid_cost, stds, means = select_beset_model(X_poly, data_poly, alpha=alpha, epochs=epochs, logging=False)\n",
        "print('degree= ', degree)\n",
        "print('test cost= ', test_cost)\n",
        "print('valid cost= ', valid_cost)\n",
        "print('w=', w)\n",
        "plt.plot(X_poly[0], data_poly[0], '.')\n",
        "y = predict(X_poly, w, degree, stds, means)\n",
        "plt.plot(X_poly[0], y[0])"
      ],
      "execution_count": 21,
      "outputs": [
        {
          "output_type": "stream",
          "text": [
            "/usr/local/lib/python3.7/dist-packages/ipykernel_launcher.py:5: RuntimeWarning: invalid value encountered in subtract\n",
            "  \"\"\"\n"
          ],
          "name": "stderr"
        },
        {
          "output_type": "stream",
          "text": [
            "degree=  6\n",
            "test cost=  0.10164250703058779\n",
            "valid cost=  0.06825851278695828\n",
            "w= [[-0.18916504]\n",
            " [ 1.54904572]\n",
            " [ 0.3787866 ]\n",
            " [-1.5515361 ]\n",
            " [-0.57702351]\n",
            " [ 0.52114049]\n",
            " [ 0.21863517]]\n"
          ],
          "name": "stdout"
        },
        {
          "output_type": "execute_result",
          "data": {
            "text/plain": [
              "[<matplotlib.lines.Line2D at 0x7fcbd5661c50>]"
            ]
          },
          "metadata": {
            "tags": []
          },
          "execution_count": 21
        },
        {
          "output_type": "display_data",
          "data": {
            "image/png": "[encoded data removed]",
            "text/plain": [
              "<Figure size 432x288 with 1 Axes>"
            ]
          },
          "metadata": {
            "tags": [],
            "needs_background": "light"
          }
        }
      ]
    },
    {
      "cell_type": "code",
      "metadata": {
        "id": "GbM2nY3lsxfK"
      },
      "source": [
        ""
      ],
      "execution_count": null,
      "outputs": []
    }
  ]
}